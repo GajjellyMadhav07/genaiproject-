{
  "cells": [
    {
      "cell_type": "markdown",
      "metadata": {},
      "source": [
        "# Demo: Multi-Model Code Assistant\n",
        "\n",
        "This notebook demonstrates generating code, an architecture diagram, and code analysis using the app's orchestration.\n",
        "\n",
        "Requirements:\n",
        "- Set `HF_TOKEN` in your environment.\n",
        "- Ensure project root is on `PYTHONPATH` when running locally.\n"
      ]
    },
    {
      "cell_type": "code",
      "execution_count": null,
      "metadata": {},
      "outputs": [],
      "source": [
        "import os\n",
        "import base64\n",
        "\n",
        "from app.frontend.gradio_app import _orchestrate_sync\n",
        "\n",
        "SESSION_ID = \"notebook-demo\"\n",
        "PROMPT = \"Generate Fibonacci sequence in Java\"\n",
        "\n",
        "code, diagram_b64, analysis = _orchestrate_sync(PROMPT, SESSION_ID)\n",
        "print(code)\n",
        "print(analysis)\n",
        "img_bytes = base64.b64decode(diagram_b64)\n",
        "# Display image if running in a notebook environment\n",
        "try:\n",
        "    from IPython.display import display\n",
        "    from PIL import Image\n",
        "    import io\n",
        "    display(Image.open(io.BytesIO(img_bytes)))\n",
        "except Exception as e:\n",
        "    print(\"Image preview not available:\", e)\n"
      ]
    },
    {
      "cell_type": "markdown",
      "metadata": {},
      "source": [
        "## Notes\n",
        "- The diagram generation may take longer than code generation.\n",
        "- Metrics (latency in ms) are included in the `analysis` dict under `latency_ms`.\n",
        "- History is stored in `./data/app.db` (SQLite).\n"
      ]
    }
  ],
  "metadata": {
    "language_info": {
      "name": "python"
    }
  },
  "nbformat": 4,
  "nbformat_minor": 2
}
